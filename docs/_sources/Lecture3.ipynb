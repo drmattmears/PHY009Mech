{
 "cells": [
  {
   "cell_type": "markdown",
   "id": "c90b3c78",
   "metadata": {
    "panel-layout": {
     "height": 93.56533813476562,
     "visible": true,
     "width": 100
    }
   },
   "source": [
    "(Lecture3)=\n",
    "# Lecture 3 - Forces and Newton's Laws\n"
   ]
  },
  {
   "cell_type": "markdown",
   "id": "e2ed9bb4",
   "metadata": {
    "panel-layout": {
     "height": 517.34375,
     "visible": true,
     "width": 100
    }
   },
   "source": [
    "(sec:C3_laws)=\n",
    "## \"Axiomata Sive Leges Motus'', or Axioms or Laws of Motion\n",
    "```{figure} Figures/C3_Newton.jpg\n",
    ":name: fig:C3_Newton\n",
    ":alt: Photograph of a book. The book is the original copy of Principia owned by Newton.\n",
    ":width: 40%\n",
    ":align: center\n",
    "Newton's own copy of his Principia, with hand-written corrections for the second edition, in the Wren Library at Trinity College, Cambridge.\n",
    "```\n",
    "\n",
    "In this topic` we are going to look at some of the work that Isaac Newton developed way back in the 17<sup>th</sup> century. Unfortunately we are not going to dabble in his obsession with alchemy[^FMA] or finding the Philosopher's Stone, but instead will concern ourselves with a particular section of the \"Philosophiæ Naturalis Principia Mathematica'' published in 1687. In this work Newton defines three laws of motion that set the foundation for the field of classical mechanics which you will study in more depth next year.\n",
    "[^FMA]:Sorry to any Fullmetal Alchemist fans out there\n",
    "\n",
    "You will already have seen these three laws of motion but there are some concepts or details that are often overlooked in pre-University courses so firstly we will review the three laws in turn before applying them to some representative examples.\n",
    "\n",
    "I will forewarn you now that I'm going to make a point of including the original Latin of the three laws. There is some educational benefit to this, I assure you, but it is also a historical thing that makes students audibly groan during lectures in response to my \"quirkiness\". I fully intend to honour this tradition until I retire."
   ]
  },
  {
   "cell_type": "markdown",
   "id": "3efa8977",
   "metadata": {
    "panel-layout": {
     "height": 428.46588134765625,
     "visible": true,
     "width": 100
    }
   },
   "source": [
    "### First Law\n",
    "\n",
    "````{grid}\n",
    ":gutter: 2\n",
    "\n",
    "```{grid-item-card}\n",
    "Corpus omne perseverare in statu suo quiescendi vel movendi uniformiter in directum, nisi quatenus a viribus impressis cogitur statum illum mutare.\n",
    "```\n",
    "```{grid-item-card}\n",
    "Every body persists in its state of being at rest or of moving uniformly straight forward, except insofar as it is compelled to change its state by force impressed.\n",
    "```\n",
    "````\n",
    "The key point that I want to emphasise with this law is a subtle one but thinking about it now will help in the future when you start thinking about special relativity. Newton makes reference to the 'state' of the body. This state could be at rest or a constant motion straight forward but in all cases they are simply specifics of this general 'state'. This state is the velocity of the body which means we can rephrase the First Law as\n",
    "> A body acted on by no **net** force moves with **constant velocity**.\n",
    "\n",
    "The zero velocity case is simply a unique value in an almost infinite number of possible velocities. Sometimes it is convenient to make use of the zero velocity case, particularly when you start thinking about different frames of reference."
   ]
  },
  {
   "cell_type": "markdown",
   "id": "af89051a",
   "metadata": {
    "panel-layout": {
     "height": 1368.5084228515625,
     "visible": true,
     "width": 100
    }
   },
   "source": [
    "### Second Law\n",
    "````{grid}\n",
    ":gutter: 2\n",
    "```{grid-item-card}\n",
    "Mutationem motus proportionalem esse vi motrici impressae, et fieri secundum lineam rectam qua vis illa imprimitur.\n",
    "```\n",
    "```{grid-item-card}\n",
    "The alteration of motion is ever proportional to the motive force impress'd; and is made in the direction of the right line in which that force is impress'd.\n",
    "```\n",
    "````\n",
    "This is by far the Law that is most frequently stated incorrectly. Or perhaps more accurately it is that the law taught to you in schools in a special case of a simplified version of the actual statement the Newton made. You will have heard people saying that the second law is simply $F=ma$ however let us look at the original statement to see what information is missing when we look between the original and this simple-yet-incomplete definition.\n",
    "\n",
    "What I hope you notice is that the original statement contains two key parts, conveniently separated by a semi colon. In the first part we have that the alteration of motion, or acceleration, is proportional to the applied force. This is all good and gels with our simple statement that $F\\propto a$, where the mass $m$ is our constant of proportionality.\n",
    "\n",
    "The information in the original definition that is lacking in our $F=ma$ statement is that regarding the directions of the applied forces and the resulting acceleration.\n",
    "````{margin}\n",
    "```{note}\n",
    "In this course I will be using the notation that a vector is denoted by **bold font** without italics.\n",
    "```\n",
    "````\n",
    "When we want to combine information about the magnitude and direction of properties you should always think about vectors.\n",
    "\n",
    "By combining the two components of the original statement for the Second Law we can give a more general statement of the law in mathematical form, namely that\n",
    "```{math}\n",
    ":label: eq:C3_Second_old\n",
    "\\textbf{F}=m\\textbf{a}\n",
    "```\n",
    "Have you spotted the 'error' yet?\n",
    "\n",
    "I was being rather picky with my choice of words right after the Latin and translation text. I said that the version taught is schools is both **simplified** and a **special case**. We have taken care of the simplification by including the directions by way of vectors but the special case element needs to be addressed.\n",
    "\n",
    "Let us look back at equation {eq}`eq:C3_Second_old`. I was quite correct to not change the mass into a vector, but what I have assumed is that the mass is **constant**. In fact I need to go back to the original statement of the Second Law and think more generally about the \"alteration of motion\" and consider a property that contains both the velocity and mass of the body. This is, of course, the **momentum** $(\\textbf{p}=m\\textbf{v})$ of the body.\n",
    "\n",
    "If we now reformulate the Second Law using this concept of the momentum into an equation we find that\n",
    "```{math}\n",
    ":label: eq:C3_Second_new\n",
    "\\textbf{F} = \\frac{\\mathrm{d}\\textbf{p}}{\\mathrm{d}t}\n",
    "```\n",
    "We can now check that this more general expression does reduce to the more familar form in equation {eq}`eq:C3_Second_old` under special circumstances. Let us take equation {eq}`eq:C3_Second_new` and apply the product rule\n",
    "\\begin{align*}\n",
    "\t \\textbf{F} &= \\frac{\\mathrm{d}(m\\textbf{v})}{\\mathrm{d}t}=m\\frac{\\mathrm{d}\\textbf{v}}{\\mathrm{d}t} + \\textbf{v}\\frac{\\mathrm{d}m}{\\mathrm{d}t}\n",
    "\\end{align*}\n",
    "\n",
    "```{margin}\n",
    "Because the rate of change of mass is zero\n",
    "```\n",
    "so in the special case that the mass remains constant the right hand term become zero and therefore we find that\n",
    "\\begin{align*}\n",
    "\t \\textbf{F} &= m\\frac{\\mathrm{d}\\textbf{v}}{\\mathrm{d}t}\\\\\n",
    "\t &= m\\textbf{a}\n",
    "\\end{align*}\n",
    "**but only when the mass is constant**. You should try to rememorise Newton's Second Law as the force applied to a body in a given time, also known as the **impulse** equals the rate of change of momentum of that body. "
   ]
  },
  {
   "cell_type": "markdown",
   "id": "8108e73c",
   "metadata": {
    "panel-layout": {
     "height": 405.0426025390625,
     "visible": true,
     "width": 100
    }
   },
   "source": [
    "### Third Law\n",
    "````{grid}\n",
    ":gutter: 2\n",
    "```{grid-item-card}\n",
    "Actioni contrariam semper et aequalem esse reactionem: sive corporum duorum actiones in se mutuo semper esse aequales et in partes contrarias dirigi.\n",
    "```\n",
    "```{grid-item-card}\n",
    "To every action there is always an equal and opposite reaction: or the forces of two bodies on each other are always equal and are directed in opposite directions.\n",
    "```\n",
    "````\n",
    "\n",
    "I won't spend as much time on this Law as there is not as much to critique, but again the key point to emphasise is that in the original statement is there is mention of the magnitude and the direction of the forces. We can neaten this up slightly by introducing our good friends the vectors. If we consider a body A that is exerting a force of magnitude $F_{AB}$ onto body B then body B exerts a force of magnitude $F_{BA}$ onto body A, and so we can state that \n",
    "```{math}\n",
    "\\textbf{F}_{AB} = -\\textbf{F}_{BA}\n",
    "```"
   ]
  },
  {
   "cell_type": "markdown",
   "id": "2f3f9840",
   "metadata": {
    "panel-layout": {
     "height": 255.34091186523438,
     "visible": true,
     "width": 100
    }
   },
   "source": [
    "### Summary of the three laws\n",
    "```{admonition} Key point\n",
    ":class: tip\n",
    "1. First Law: A body acted on by no **net** force moves with **constant velocity** (which may be zero).\n",
    "2. Second Law: The general mathematical form is $\\textbf{F}=\\dfrac{\\mathrm{d}\\textbf{p}}{\\mathrm{d}t}$. This reduces to $\\textbf{F}=m\\textbf{a}$ only in the case where the mass remains constant.\n",
    "3. Third Law: If body A exerts a force on body B, then body B exerts a force on body A of the same magnitude but in the opposite direction, i.e. $\\textbf{F}_{AB} = -\\textbf{F}_{BA}$\n",
    "```"
   ]
  },
  {
   "cell_type": "markdown",
   "id": "521bb322",
   "metadata": {
    "panel-layout": {
     "height": 616.7613525390625,
     "visible": true,
     "width": 100
    }
   },
   "source": [
    "## Resolving forces\n",
    "\n",
    "[The three Laws](sec:C3_laws) were discussed in quite some length but what we are really excited about is using these to solve some physics problems. So that is exactly what we will do now.\n",
    "\n",
    "### Example - Traffic Lights (not UK ones)\n",
    "In this case we consider the type of traffic lights that are suspended from cables, as shows in {numref}`fig:C3_traffic_old` below. We have a traffic light suspended from a single cable which in turn is suspended from two cables that make angles of $37.0^\\circ$ and $53.0^\\circ$ to the horizontal beam above. We also know that the weight of the traffic light is $125.0\\text{ N}$, and we have been tasked with calculating the tensions in each of the three cables.\n",
    "```{figure} Figures/C3_traffic_old.png\n",
    ":name: fig:C3_traffic_old\n",
    ":alt: A hanging style set of traffic lights suspended on one vertical wire which in turn is attached to two wires that are affixed to a horizontal surface. These two wires each make a different angle to this surface and so have a different tension. The traffic light is stationary so no velocity vectors are indicated.\n",
    ":width: 80%\n",
    ":align: center\n",
    "A hanging style set of traffic lights suspended on one vertical wire which in turn is attached to two wires that are affixed to a horizontal surface. These two wires each make a different angle to this surface and so have a different tension. The traffic light is stationary so no velocity vectors are indicated.\n",
    "```\n",
    "\n",
    "Now before you jump straight in to the calculations we should take a step back and think a) about the assumptions of a system, and b) which approach we should take. The former is somewhat trivial but always worth stating: in this example I am assuming that the traffic light is stationary and therefore (from Newton's First Law) there is **zero net force** in the system.\n",
    "\n",
    "The latter point is important because taking a brief moment to pause and think about the approach gives you the time to think about which methods are valid and, of those, which are the most efficient. For the purposes of hammering this point home I'm going to solve this traffic light problem using two methods, the first being the typical approach taught in pre-University education and the second making use of the vectors that we emphasised in our earlier review of the three laws of motion. "
   ]
  },
  {
   "cell_type": "markdown",
   "id": "3806e6e2",
   "metadata": {
    "panel-layout": {
     "height": 969.2471313476562,
     "visible": true,
     "width": 100
    }
   },
   "source": [
    "(sec:C3_traffic_old)=\n",
    "#### Method 1 - Resolving components\n",
    "Looking at {numref}`fig:C3_traffic_old` I am going to split the system up into two parts, the upper and lower, and will consider the lower part first. In this part I have two components, the weight of the traffic light $mg$ and the tension $T_3$. Both of these are only acting in the vertical direction which means \n",
    "```{math}\n",
    "T_3 = mg\n",
    "```\n",
    "\n",
    "````{margin}\n",
    "```{note}\n",
    "As an aside, horizontal and vertical are somewhat arbitrary. What I am doing is splitting these into two orthogonal components, but given that gravity acts vertically it is sensible to align one of my components with this.\n",
    "```\n",
    "````\n",
    "Next I consider the upper part and here I need to split the components of the three tensions into their horizontal and vertical components. Thus my horizontal components give\n",
    "```{math}\n",
    ":label: eq:C3_T1\n",
    "T_1\\cos\\alpha &= T_2\\cos\\beta\\nonumber\\\\\n",
    "T_1 &= T_2\\left(\\frac{\\cos\\beta}{\\cos\\alpha}\\right)\n",
    "```\n",
    "Next our vertical components give\n",
    "\\begin{align*}\n",
    "T_3 = mg &= T_1\\sin\\alpha + T_2\\sin\\beta\\\\\n",
    "&= T_2\\left(\\tan\\alpha\\cos\\beta + \\sin\\beta\\right)\\\\\n",
    "\\therefore T_2 &= \\frac{mg}{\\tan\\alpha\\cos\\beta + \\sin\\beta} \\approx 99.8\\text{ N}\n",
    "\\end{align*}\n",
    "where I have substituted the expression for $T_1$ (equation {eq}`eq:C3_T1`) into the second line. Now that I have an expression or value for $T_2$ I can substitute this back in to equation {eq}`eq:C3_T1` to find\n",
    "\\begin{align*}\n",
    "T_1 &= T_2\\left(\\frac{\\cos\\beta}{\\cos\\alpha}\\right)\\\\\n",
    "&= \\left(\\frac{mg}{\\tan\\alpha\\cos\\beta + \\sin\\beta}\\right)\\left(\\frac{\\cos\\beta}{\\cos\\alpha}\\right) \\\\\n",
    "&\\approx 75.2\\text{ N}\n",
    "\\end{align*}\n",
    "```{margin}\n",
    "This precision is dictated by the precision of the original input values, in this case the weight and the two stated angles.\n",
    "```\n",
    "And there we have it. We have found that $T_1=75.2\\text{ N}$, $T_2=99.8\\text{ N}$ and $T_3=125.0\\text{ N}$ to the correct number of significant figures. \n"
   ]
  },
  {
   "cell_type": "markdown",
   "id": "78988d1e",
   "metadata": {
    "panel-layout": {
     "height": 943.4232788085938,
     "visible": true,
     "width": 100
    }
   },
   "source": [
    "(C3_Method2)=\n",
    "#### Method 2 - Vectors\n",
    "The method above does work but it involved an unneccesary amount of work. By remembering that we are working with vectors we can avoid splitting our forces into their components of direction and magnitude (or in this case their horizontal and vertical), and just work with the vectors themselves.\n",
    "\n",
    "We have assumed that the system is not accelerating which means there is no net force. Under this assumption the sum of the forces in the system should equal zero which, when expressed as a diagram, means the three vectors form a closed triangle when placed end to end. We will start by sketching this as in {numref}`fig:C3_traffic_new`.\n",
    "\n",
    "```{figure} Figures/C3_Traffic_new.png\n",
    ":name: fig:C3_traffic_new\n",
    ":alt: Three arrows indicate the vector forces, one due to gravity pointing directly down, and the two force vectors point at angles with respect to the horizontal. The three vector arrows form a closed triangle because the traffic light is stationary and thus there is zero net force.\n",
    ":width: 50%\n",
    ":align: center\n",
    "Three arrows indicate the vector forces, one due to gravity pointing directly down, and the two force vectors point at angles with respect to the horizontal. The three vector arrows form a closed triangle because the traffic light is stationary and thus there is zero net force.\n",
    "```\n",
    "\n",
    "When presented in this form I hope it is fairly clear that we have a triangle with all lengths and angles defined (even if we do not yet know all the values). \n",
    "````{margin}\n",
    "```{note}\n",
    "I'm borrowing the result from the previous method that $T_3=mg$, but this is pretty obvious when you think about the system.\n",
    "```\n",
    "````\n",
    "The fact that this is a triangle of vectors makes no difference; we can apply the geometry rules we all know and love to solve for the unknowns, in this case $T_1$ and $T_2$.\n",
    "\n",
    "I will make use of the sine rules of triangles, which if you cannot remember it off the bat is defined as \n",
    "```{math}\n",
    "\\frac{mg}{\\sin\\theta'}=\\frac{T_1}{\\sin\\beta'}=\\frac{T_2}{\\sin\\alpha'}.\n",
    "```\n",
    "We know all of the parameters in the left hand side so will use this part twice, first to find $T_1$ and again to find $T_2$. For $T_1$ this gives\n",
    "\\begin{align*}\n",
    "\\frac{mg}{\\sin\\theta'}&=\\frac{T_1}{\\sin\\beta'}\\\\\n",
    "T_1&=mg\\left(\\frac{\\sin\\theta'}{\\sin\\beta'}\\right)\\\\\n",
    "&\\approx0.602mg = 75.2\\text{ N}\n",
    "\\end{align*}\n",
    "Similar steps will give you $T_2 = 99.8\\text{ N}$. These are the same as we found using the [previous method](sec:C3_traffic_old), as we would expect, but the vector method is much more efficient"
   ]
  },
  {
   "cell_type": "markdown",
   "id": "5447171f",
   "metadata": {
    "panel-layout": {
     "height": 1918.053955078125,
     "visible": true,
     "width": 100
    }
   },
   "source": [
    "### Mass on a string\n",
    "This may all seem a little arbitrary and trivial but we can use the principles that allowed to solve the traffic light problem above to consider a different system that will form the basis of how you describe and manipulate waves on a string. All I will cover in this part of the course is from defining the system up to the definition of boundary conditions, but you will take this further in the Waves and Oscillations part of the module.\n",
    "\n",
    "Our first step is one of defining some notation. Consider a string whose equilibrium position lies along the $x$-axis. If the string oscillates in the $y$ direction only (that is, we confine this to two dimensions) \n",
    "````{margin}\n",
    "```{note}\n",
    "$\\Psi$ is the Greek capital letter 'psi'. You may ask why I'm not using $A$ for amplitude, but typically $A$ is the maximum amplitude whereas $\\Psi$ varies with time and position.\n",
    "```\n",
    "````\n",
    "then the amplitude of the oscillation $\\Psi$ is a function of the position along the string and the time, denoted by $\\Psi(x,t)$ as shown in {numref}`fig:C3_string1`.\n",
    "```{figure} Figures/C3_string1.png\n",
    ":name: fig:C3_string1\n",
    ":alt: The amplitude of each point on the string is a function of both the position along the string $x$ and of time $t$. This amplitude $\\Psi(x,t)$ is defined with respect to the equilibrium position, i.e. where the string sits stationary when no initial force or displacement is applied.\n",
    ":width: 70%\n",
    ":align: center\n",
    "The amplitude of each point on the string is a function of both the position along the string $x$ and of time $t$. This amplitude $\\Psi(x,t)$ is defined with respect to the equilibrium position, i.e. where the string sits stationary when no initial force or displacement is applied.\n",
    "```\n",
    "\n",
    "Let us consider a more complicated system of two strings that are joined together with a blob of glue with mass $m$. These two strings have different mass densities, $\\mu_1$ and $\\mu_2$ but are both under the same tension $T$. This can be seen in {numref}`fig:C3_string2`.\n",
    "\n",
    "```{figure} Figures/C3_string2.png\n",
    ":name: fig:C3_string2\n",
    ":alt: A blob of glue with mass $m$ is joining two strings of different mass densities together. As a wave travels along this string system the mass accelerates in the $y$ direction only. There are two tensions acting on the mass, one from each of the strings.\n",
    ":width: 70%\n",
    ":align: center\n",
    "A blob of glue with mass $m$ is joining two strings of different mass densities together. As a wave travels along this string system the mass accelerates in the $y$ direction only. There are two tensions acting on the mass, one from each of the strings.\n",
    "```\n",
    "\n",
    "Now we can start thinking about and defining the boundary conditions at the blob of glue which is the boundary between the two strings.\n",
    "\n",
    "The first condition is that the strings must remain joined. This may seem silly and trivial but to ensure this condition is met at the boundary we can make some very useful statements. In order for the strings to remain joined any wave they are both carrying **must** have the same frequency at all points on the string and **must** have the same amplitude at the boundary . The string ends at the boundary cannot have different vertical positions if they are joined. Therefore at the boundary we can state\n",
    "\\begin{align*}\n",
    "\\omega_1 &= \\omega_2\\\\\n",
    "\\Psi_1(x=0,t) &= \\Psi_2(x=0,t)\n",
    "\\end{align*}\n",
    "````{margin}\n",
    "```{note}\n",
    "In case you forgot, this is a lecture on forces!\n",
    "```\n",
    "````\n",
    "The second boundary condition is less obvious from first glance but can easily be determined when we think about the **forces** acting on the blob of glue. The blob has an acceleration $a$ which means\n",
    "```{math}\n",
    ":label: eq:C3_string\n",
    "T\\sin\\beta-T\\sin\\alpha =ma\n",
    "```\n",
    "For small oscillations we can state that\n",
    "\\begin{align*}\n",
    "\\sin\\beta \\approx \\tan\\beta = \\frac{\\partial{\\Psi_2}}{\\partial{x}}(x=0,t)\\\\\n",
    "\\sin\\alpha \\approx \\tan\\alpha = \\frac{\\partial{\\Psi_1}}{\\partial{x}}(x=0,t)\n",
    "\\end{align*}\n",
    "We can also define the acceleration of the blob of glue in terms of the second partial derivative of the position with respect to time, i.e.\n",
    "\\begin{align*}\n",
    "a &= \\frac{\\partial{}^2\\Psi}{\\partial{t^2}}\n",
    "\\end{align*}\n",
    "We can substitute these three expressions back in to equation {eq}`eq:C3_string` to find\n",
    "\\begin{align*}\n",
    "T\\frac{\\partial{\\Psi_2}}{\\partial{x}}(x=0,t) -T\\frac{\\partial{\\Psi_1}}{\\partial{x}}(x=0,t) &= m\\frac{\\partial{}^2\\Psi}{\\partial{t^2}}\n",
    "\\end{align*}\n",
    "Finally let us suppose that there is no blob of glue at the join, such that $m\\rightarrow 0$, which leads to\n",
    "\\begin{align*}\n",
    "T\\frac{\\partial{\\Psi_2}}{\\partial{x}}(x=0,t) &= T\\frac{\\partial{\\Psi_1}}{\\partial{x}}(x=0,t)\\\\\n",
    "\\frac{\\partial{\\Psi_2}}{\\partial{x}}(x=0,t) &= \\frac{\\partial{\\Psi_1}}{\\partial{x}}(x=0,t)\n",
    "\\end{align*}\n",
    "This can be reinterpreted as the curvature at the boundary is the same for both string 1 and 2. Intuitively this makes sense as we would not expect to see a sharp change in gradient at the boundary, and instead expect (or indeed require) it to be smooth.\n",
    "\n",
    "So we now have our three boundary conditions:\n",
    "1. $\\omega_1 = \\omega_2$\n",
    "2. At $x=0$, $\\Psi_1 = \\Psi_2$ for all $t$\n",
    "3. At $x=0$, $\\dfrac{\\partial{\\Psi_1}}{\\partial{x}} = \\dfrac{\\partial{\\Psi_2}}{\\partial{x}}$ for all $t$\n",
    "\n",
    "These boundary conditions will allow you to solve for how waves scatter at the boundary between two strings which you will cover in the Waves and Oscillation lectures. Hopefully what you can see here is that these boundary conditions are fairly sensible to define when you think carefully about the physical system you are dealing with, and that even the more complicated one here about the requirement of continuous curvature at the boundary can be easily derived from some relatively simple resolution of forces. "
   ]
  },
  {
   "cell_type": "markdown",
   "id": "5deafd56",
   "metadata": {
    "panel-layout": {
     "height": 1118.7926025390625,
     "visible": true,
     "width": 100
    }
   },
   "source": [
    "## Lecture Questions\n",
    "\n",
    "\n",
    "``````{admonition} Question 1\n",
    ":class: dropdown, hint\n",
    "`````{tab-set}\n",
    "````{tab-item} Question\n",
    "Three vector forces $\\textbf{F}_1$, $\\textbf{F}_2$ and $\\textbf{F}_3$ act on a particle of mass $m = 3.8\\text{ kg}$ as shown below.\n",
    "```{figure} Figures/L3_1.png\n",
    ":width: 50%\n",
    "```\n",
    "1. Calculate the magnitude and direction of the net force acting on the particle.\n",
    "2. Calculate the particle's acceleration.\n",
    "3. If an additional stabilizing force $\\textbf{F}_4$ is applied to create an equilibrium condition with a resultant net force of zero, what would be the magnitude and direction of $\\textbf{F}_4$?\n",
    "\n",
    "````\n",
    "\n",
    "````{tab-item} Hint\n",
    "Be careful with using the [resolving vectors](C3_Method2) method. Not all of the vectors are labelled on the diagram, so you aren't dealing with a triangle of arrows. However you could combine pairs of vectors into single vectors until you get down to three, and then use the triangle method.\n",
    "\n",
    "Note that the word **acceleration** has a specific definition. Make sure you include all of the necessary information in your result.\n",
    "````\n",
    "\n",
    "````{tab-item} Solution\n",
    "**1** The second step is to resolve the forces into $x$ and $y$ components. The first step is to check that it's worth doing this! The question is asking for magnitude and directions, and the force diagram gives the three forces in magnitude and direction format, so it is indeed worth doing this.\n",
    "\\begin{align*}\n",
    "F_x &= -80\\cos35^\\circ + 60 + 40\\cos45^\\circ = 22.75\\text{ N}\\\\\n",
    "F_y &= 80\\sin35^\\circ + 0 - 40\\sin45^\\circ = 17.60\\text{ N}\n",
    "\\end{align*}\n",
    "We can now calculate the magnitude of the net force $F_\\text{net}$ and the direction $\\theta$:\n",
    "\\begin{align*}\n",
    "F_\\text{net} &= \\sqrt{F_x^2+F_y^2}=28.8\\text{ N}\\\\\n",
    "\\tan\\theta &= \\frac{F_y}{F_x} = 0.7736 \\implies \\theta = 37.7^\\circ\n",
    "\\end{align*}\n",
    "where $\\theta$ is defined as anticlockwise from the positive $x$ axis.\n",
    "\n",
    "**2**\n",
    "\\begin{align*}\n",
    "a &= \\frac{F_\\text{net}}{m} = 7.6\\text{ m s}^{-2}\n",
    "\\end{align*}\n",
    "in the direction of the force found in part 1 (i.e. $37.7^\\circ$ anticlockwise from the positive $x$ axis).\n",
    "\n",
    "**3** The long approach to this question would be to go back to the first step but add another component into our expressions for $F_x$ and $F_y$ and then solving the simultaneous equations.\n",
    "\n",
    "The shorter approach is to recognise that to have a net zero force one must add an additional force that is equal in magnitude but opposite in direction to $\\textbf{F}_\\text{net}$, i.e. $\\textbf{F}_4 = -\\textbf{F}_\\text{net}$.\n",
    "````\n",
    "`````\n",
    "``````"
   ]
  },
  {
   "cell_type": "markdown",
   "id": "50d1a49a",
   "metadata": {
    "panel-layout": {
     "height": 451.1647644042969,
     "visible": true,
     "width": 100
    }
   },
   "source": [
    "`````{admonition} Question 2\n",
    ":class: dropdown, hint\n",
    "````{tab-set}\n",
    "```{tab-item} Question\n",
    "A container of mass $200.0 \\text{ kg}$ rests on the back of an open truck. If the truck accelerates at $1.5 \\text{ m s}^{-2}$, what is the minimum coefficient of static friction between the container and the bed of the truck required to prevent the container from sliding off the back of the truck?\n",
    "```\n",
    "\n",
    "```{tab-item} Hint\n",
    "A reminder that friction force is proportional to the weight of the object and acts parallel to the surface.\n",
    "```\n",
    "\n",
    "```{tab-item} Solution\n",
    "The force applied to the container $F=ma$ and the frictional force $F_f=\\mu mg$. Therefore\n",
    "\\begin{align*}\n",
    "\\mu mg &= ma\\\\\n",
    "\\therefore \\mu &= \\frac{a}{g} = 0.15\n",
    "\\end{align*}\n",
    "```\n",
    "````\n",
    "`````"
   ]
  },
  {
   "cell_type": "markdown",
   "id": "ae7fac7e",
   "metadata": {
    "panel-layout": {
     "height": 879.7869262695312,
     "visible": true,
     "width": 100
    }
   },
   "source": [
    "``````{admonition} Question 3\n",
    ":class: dropdown, hint\n",
    "`````{tab-set}\n",
    "````{tab-item} Question\n",
    "Three strings are knotted together, and masses of $7.0\\text{ kg}$, $8.0\\text{ kg}$ and $9.0\\text{ kg}$ are attached to their free ends. The strings carrying the two lighter weights are slung over fixed smooth pegs. At what angle to the vertical do these strings rest when the system is in equillibrium?\n",
    "```{figure} Figures/L3_3.png\n",
    ":width: 50%\n",
    ":align: center\n",
    "```\n",
    "````\n",
    "\n",
    "````{tab-item} Hint\n",
    "The pulleys are a slight distraction. How would the system change if you were to instead pull the $7.0\\text{ kg}$ and $8.0\\text{ kg}$ masses by the same force but in the direction of the diagonal lines connecting the $9.0\\text{ kg}$ mass cable and the two respective pulleys?\n",
    "````\n",
    "\n",
    "````{tab-item} Solution\n",
    "At equilibrium there is no net force. In terms of the force vectors this means the three involved should form a closed triangle from which we can use the cosine formula to calcuate our angles.\n",
    "```{figure} Figures/L3_3b.png\n",
    ":width: 50%\n",
    ":align: center\n",
    "```\n",
    "First we want to calculate $\\alpha$. We use\n",
    "\\begin{align*}\n",
    "a^2 &= b^2 + c^2 - 2bc\\cos\\alpha\\\\\n",
    "\\cos \\alpha &= \\frac{b^2 + c^2 - a^2}{2bc} = \\frac{9600}{14400} = \\frac{2}{3}\\\\\n",
    "\\therefore \\alpha &\\approx 42.1^\\circ \\approx 0.84\\text{ radians}\n",
    "\\end{align*}\n",
    "The second angle we want to find is $\\gamma$ which is more obvious when you project upwards from the vectors $a$ and $b$. One again we use the cosine rule:\n",
    "\\begin{align*}\n",
    "c^2 &= a^2 + b^2 - 2bc\\cos\\alpha\\\\\n",
    "\\cos \\gamma &= \\frac{a^2 + b^2 - c^2}{2ab} = \\frac{6600}{12600} \\approx 0.52\\\\\n",
    "\\therefore \\gamma &\\approx 58.7^\\circ \\approx 1.02\\text{ radians}\n",
    "\\end{align*}\n",
    "Strictly speaking there is a third angle that is needed, as the question asks for the angles that the three strings make to the vertical. The third string i.e. vector $\\textbf{b}$ is pointing vertically down so the angle is either zero or $\\pi$ radians depending on which way you define the positive vertical axis.\n",
    "````\n",
    "`````\n",
    "``````"
   ]
  },
  {
   "cell_type": "markdown",
   "id": "98b91a86",
   "metadata": {
    "panel-layout": {
     "height": 622.6135864257812,
     "visible": true,
     "width": 100
    }
   },
   "source": [
    "`````{admonition} Question 4\n",
    ":class: dropdown, hint\n",
    "````{tab-set}\n",
    "```{tab-item} Question\n",
    "An aircraft of mass 10 metric tonnes is gliding at $5^\\circ$ to the horizontal. The pilot has turned the engine meaning that the plane is gliding at a constant speed. Determine the forces of lift and drag.\n",
    "\n",
    "Note: 1 metric tonne is $10^3\\text{ kg}.$\n",
    "```\n",
    "\n",
    "```{tab-item} Hint\n",
    "Avoid the temptation to assume that lift acts vertically with respect to the ground, and that drag acts horizontally. These two forces act on the aircraft, so think in terms of how the aircraft moves.\n",
    "```\n",
    "\n",
    "```{tab-item} Solution\n",
    "The weight of the aircraft is $10^3g$ - I'm leaving it in terms of $g$ for now and will plug numbers in at the end.\n",
    "\n",
    "The lift force $L$ is the force which keeps an aircraft in the air and acts perpendicular to the direction of motion. On the other hand the drag force $D$ acts anti-parallel to (i.e. parallel to but in the opposite direction of) the direction of motion.\n",
    "\n",
    "As the speed of the aircraft is constant the forces must be in equilibrium. We can therefore construct a force triangle from which we can determine\n",
    "\\begin{align*}\n",
    "D &= 10^3g\\times\\sin5 = 855.0\\text{ N}\\\\\n",
    "L &= 10^3g\\times\\cos5 = 9772.7\\text{ N}\n",
    "\\end{align*}\n",
    "```\n",
    "````\n",
    "`````"
   ]
  }
 ],
 "metadata": {
  "kernelspec": {
   "display_name": "Python 3 (ipykernel)",
   "language": "python",
   "name": "python3"
  },
  "language_info": {
   "codemirror_mode": {
    "name": "ipython",
    "version": 3
   },
   "file_extension": ".py",
   "mimetype": "text/x-python",
   "name": "python",
   "nbconvert_exporter": "python",
   "pygments_lexer": "ipython3",
   "version": "3.12.3"
  },
  "panel-cell-order": [
   "c90b3c78",
   "e2ed9bb4",
   "3efa8977",
   "af89051a",
   "8108e73c",
   "2f3f9840",
   "521bb322",
   "3806e6e2",
   "78988d1e",
   "5447171f",
   "5deafd56",
   "50d1a49a",
   "ae7fac7e",
   "98b91a86"
  ]
 },
 "nbformat": 4,
 "nbformat_minor": 5
}
